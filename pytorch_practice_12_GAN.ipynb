{
 "cells": [
  {
   "cell_type": "code",
   "execution_count": 5,
   "metadata": {},
   "outputs": [],
   "source": [
    "import torch\n",
    "import torchvision\n",
    "from torchvision import transforms\n",
    "import torch.nn.functional as F\n",
    "import torch.nn as nn\n",
    "import torch.optim as optim\n",
    "from torch.utils.data import DataLoader\n",
    "from torchvision.datasets import FashionMNIST\n",
    "from torchvision.utils import make_grid\n",
    "import imageio\n",
    "import numpy as np\n",
    "import matplotlib.pyplot as plt"
   ]
  },
  {
   "cell_type": "code",
   "execution_count": 6,
   "metadata": {},
   "outputs": [
    {
     "name": "stdout",
     "output_type": "stream",
     "text": [
      "Downloading http://fashion-mnist.s3-website.eu-central-1.amazonaws.com/train-images-idx3-ubyte.gz to ./Pytorch_sample/data/FashionMNIST\\raw\\train-images-idx3-ubyte.gz\n"
     ]
    },
    {
     "name": "stderr",
     "output_type": "stream",
     "text": [
      "26427392it [00:15, 1748451.13it/s]                              \n"
     ]
    },
    {
     "name": "stdout",
     "output_type": "stream",
     "text": [
      "Extracting ./Pytorch_sample/data/FashionMNIST\\raw\\train-images-idx3-ubyte.gz to ./Pytorch_sample/data/FashionMNIST\\raw\n",
      "Downloading http://fashion-mnist.s3-website.eu-central-1.amazonaws.com/train-labels-idx1-ubyte.gz to ./Pytorch_sample/data/FashionMNIST\\raw\\train-labels-idx1-ubyte.gz\n"
     ]
    },
    {
     "name": "stderr",
     "output_type": "stream",
     "text": [
      "32768it [00:00, 37147.10it/s]                           \n"
     ]
    },
    {
     "name": "stdout",
     "output_type": "stream",
     "text": [
      "Extracting ./Pytorch_sample/data/FashionMNIST\\raw\\train-labels-idx1-ubyte.gz to ./Pytorch_sample/data/FashionMNIST\\raw\n",
      "Downloading http://fashion-mnist.s3-website.eu-central-1.amazonaws.com/t10k-images-idx3-ubyte.gz to ./Pytorch_sample/data/FashionMNIST\\raw\\t10k-images-idx3-ubyte.gz\n"
     ]
    },
    {
     "name": "stderr",
     "output_type": "stream",
     "text": [
      "4423680it [00:04, 1094063.03it/s]                             \n"
     ]
    },
    {
     "name": "stdout",
     "output_type": "stream",
     "text": [
      "Extracting ./Pytorch_sample/data/FashionMNIST\\raw\\t10k-images-idx3-ubyte.gz to ./Pytorch_sample/data/FashionMNIST\\raw\n",
      "Downloading http://fashion-mnist.s3-website.eu-central-1.amazonaws.com/t10k-labels-idx1-ubyte.gz to ./Pytorch_sample/data/FashionMNIST\\raw\\t10k-labels-idx1-ubyte.gz\n"
     ]
    },
    {
     "name": "stderr",
     "output_type": "stream",
     "text": [
      "8192it [00:00, 13795.71it/s]            "
     ]
    },
    {
     "name": "stdout",
     "output_type": "stream",
     "text": [
      "Extracting ./Pytorch_sample/data/FashionMNIST\\raw\\t10k-labels-idx1-ubyte.gz to ./Pytorch_sample/data/FashionMNIST\\raw\n",
      "Processing...\n",
      "Done!\n",
      "cuda:0\n"
     ]
    },
    {
     "name": "stderr",
     "output_type": "stream",
     "text": [
      "\n",
      "C:\\Users\\bm990\\.julia\\conda\\3\\envs\\DL\\lib\\site-packages\\torchvision\\datasets\\mnist.py:480: UserWarning: The given NumPy array is not writeable, and PyTorch does not support non-writeable tensors. This means you can write to the underlying (supposedly non-writeable) NumPy array using the tensor. You may want to copy the array to protect its data or make it writeable before converting it to a tensor. This type of warning will be suppressed for the rest of this program. (Triggered internally at  ..\\torch\\csrc\\utils\\tensor_numpy.cpp:141.)\n",
      "  return torch.from_numpy(parsed.astype(m[2], copy=False)).view(*s)\n"
     ]
    }
   ],
   "source": [
    "transform = transforms.Compose([transforms.ToTensor(), transforms.Normalize((0.5,), (0.5,))])\n",
    "trainset = FashionMNIST(root = './Pytorch_sample/data/', train=True, download=True, transform=transform)\n",
    "trainloader = DataLoader(trainset, batch_size= 100, shuffle=True)\n",
    "device = torch.device(\"cuda:0\" if torch.cuda.is_available() else \"cpu\")\n",
    "print(device)"
   ]
  },
  {
   "cell_type": "code",
   "execution_count": 9,
   "metadata": {},
   "outputs": [],
   "source": [
    "class Generator(nn.Module):\n",
    "    def __init__(self):\n",
    "        super(Generator, self).__init__()\n",
    "        self.n_features = 128\n",
    "        self.n_out = 784\n",
    "        self.linear = nn.Sequential(\n",
    "            nn.Linear(self.n_features, 256),\n",
    "            nn.LeakyReLU(0.2),\n",
    "            nn.Linear(256, 512),\n",
    "            nn.LeakyReLU(0.2),\n",
    "            nn.Linear(512, 1024),\n",
    "            nn.LeakyReLU(0.2),\n",
    "            nn.Linear(1024, self.n_out),\n",
    "            nn.Tanh()\n",
    "        )\n",
    "    def forward(self, x):\n",
    "        x = self.linear(x)\n",
    "        x = x.view(-1, 1, 28, 28)\n",
    "        return x\n",
    "    \n",
    "class Discriminator(nn.Module):\n",
    "    def __init__(self):\n",
    "        super(Discriminator, self).__init__()\n",
    "        self.n_in = 784\n",
    "        self.n_out = 1\n",
    "        self.linear = nn.Sequential(\n",
    "            nn.Linear(self.n_in, 1024),\n",
    "            nn.LeakyReLU(0.2),\n",
    "            nn.Dropout(0.3),\n",
    "            nn.Linear(1024, 512),\n",
    "            nn.LeakyReLU(0.2),\n",
    "            nn.Dropout(0.3),\n",
    "            nn.Linear(512, 256),\n",
    "            nn.LeakyReLU(0.2),\n",
    "            nn.Dropout(0.3),\n",
    "            nn.Linear(256, self.n_out),\n",
    "            nn.Sigmoid()    \n",
    "        )\n",
    "    \n",
    "    def forward(self, x):\n",
    "        x = x.view(-1, 784)\n",
    "        x = self.linear(x)\n",
    "        return x"
   ]
  },
  {
   "cell_type": "code",
   "execution_count": 10,
   "metadata": {},
   "outputs": [],
   "source": [
    "generator = Generator().to(device)\n",
    "discriminator = Discriminator().to(device)\n",
    "\n",
    "g_optim = optim.Adam(generator.parameters(), lr = 2e-4)\n",
    "d_optim = optim.Adam(discriminator.parameters(), lr = 2e-4)\n",
    "g_losses = []\n",
    "d_losses = []\n",
    "images = []\n",
    "criterion = nn.BCELoss()"
   ]
  },
  {
   "cell_type": "code",
   "execution_count": 11,
   "metadata": {},
   "outputs": [],
   "source": [
    "def noise(n, n_features=128):\n",
    "    data = torch.randn(n, n_features)\n",
    "    return data.to(device)\n",
    "\n",
    "def label_ones(size):\n",
    "    data = torch.ones(size, 1)\n",
    "    return data.to(device)\n",
    "\n",
    "def label_zeros(size):\n",
    "    data = torch.zeros(size, 1)\n",
    "    return data.to(device)"
   ]
  },
  {
   "cell_type": "code",
   "execution_count": 12,
   "metadata": {},
   "outputs": [],
   "source": [
    "def train_discriminator(optimizer, real_data, fake_data):\n",
    "    n = real_data.size(0)\n",
    "    optimizer.zero_grad()\n",
    "    prediction_real = discriminator(real_data)\n",
    "    d_loss = criterion(prediction_real, label_ones(n))\n",
    "    prediction_fake = discriminator(fake_data)\n",
    "    g_loss = criterion(prediction_fake, label_zeros(n))\n",
    "    loss = d_loss + g_loss\n",
    "    loss.backward()\n",
    "    optimizer.step()\n",
    "    return loss.item()"
   ]
  },
  {
   "cell_type": "code",
   "execution_count": 13,
   "metadata": {},
   "outputs": [],
   "source": [
    "def train_generator(optimizer, fake_data):\n",
    "    n = fake_data.size(0)\n",
    "    optimizer.zero_grad()\n",
    "    prediction = discriminator(fake_data)\n",
    "    loss = criterion(prediction, label_ones(n))\n",
    "    loss.backward()\n",
    "    optimizer.step()\n",
    "    return loss.item()"
   ]
  },
  {
   "cell_type": "code",
   "execution_count": 15,
   "metadata": {},
   "outputs": [
    {
     "name": "stdout",
     "output_type": "stream",
     "text": [
      "Epoch 0: g_loss : 1.748 d_loss : 0.849\n",
      "Epoch 10: g_loss : 1.414 d_loss : 0.949\n",
      "Epoch 20: g_loss : 1.325 d_loss : 1.001\n",
      "Epoch 30: g_loss : 1.248 d_loss : 1.058\n",
      "Epoch 40: g_loss : 1.227 d_loss : 1.063\n",
      "Epoch 50: g_loss : 1.168 d_loss : 1.100\n",
      "Epoch 60: g_loss : 1.193 d_loss : 1.088\n",
      "Epoch 70: g_loss : 1.112 d_loss : 1.132\n",
      "Epoch 80: g_loss : 1.093 d_loss : 1.159\n",
      "Epoch 90: g_loss : 1.059 d_loss : 1.183\n",
      "Epoch 100: g_loss : 1.054 d_loss : 1.195\n",
      "Epoch 110: g_loss : 1.022 d_loss : 1.196\n",
      "Epoch 120: g_loss : 1.037 d_loss : 1.202\n",
      "Epoch 130: g_loss : 1.040 d_loss : 1.191\n",
      "Epoch 140: g_loss : 0.998 d_loss : 1.213\n",
      "Epoch 150: g_loss : 0.996 d_loss : 1.214\n"
     ]
    }
   ],
   "source": [
    "test_noise = noise(64)\n",
    "l = len(trainloader)\n",
    "for epoch in range(151):\n",
    "    g_loss = 0.0\n",
    "    d_loss = 0.0\n",
    "    for data in trainloader:\n",
    "        imgs,_=data\n",
    "        n = len(imgs)\n",
    "        fake_data = generator(noise(n)).detach()\n",
    "        real_data = imgs.to(device)\n",
    "        d_loss += train_discriminator(d_optim, real_data, fake_data)\n",
    "        fake_data = generator(noise(n))\n",
    "        g_loss += train_generator(g_optim, fake_data)\n",
    "        \n",
    "    img = generator(test_noise).detach().cpu()\n",
    "    img = make_grid(img)\n",
    "    images.append(img)\n",
    "    g_losses.append(g_loss/l)\n",
    "    d_losses.append(d_loss/l)\n",
    "    if epoch % 10 == 0:\n",
    "        print('Epoch {}: g_loss : {:.3f} d_loss : {:.3f}\\r'.format(epoch, g_loss/l, d_loss/l))"
   ]
  },
  {
   "cell_type": "code",
   "execution_count": 18,
   "metadata": {},
   "outputs": [],
   "source": [
    "torch.save(discriminator.state_dict(), './Pytorch_sample/models/fmnist_disc.pth')\n",
    "torch.save(generator.state_dict(), './Pytorch_sample/models/fmnist_gner.pth')\n",
    "\n",
    "to_image = transforms.ToPILImage()\n",
    "imgs = [np.array(to_image(i)) for i in images]\n",
    "imageio.mimsave('fashion_items.gif', imgs)"
   ]
  },
  {
   "cell_type": "code",
   "execution_count": 19,
   "metadata": {},
   "outputs": [
    {
     "data": {
      "image/png": "[encoded data removed]",
      "text/plain": [
       "<Figure size 1440x720 with 1 Axes>"
      ]
     },
     "metadata": {
      "needs_background": "light"
     },
     "output_type": "display_data"
    }
   ],
   "source": [
    "plt.figure(figsize=(20,10))\n",
    "plt.plot(g_losses)\n",
    "plt.plot(d_losses)\n",
    "plt.legend(['Generator', 'Discriminator'])\n",
    "plt.title('Loss')\n",
    "plt.show()"
   ]
  }
 ],
 "metadata": {
  "interpreter": {
   "hash": "b525420d7f60fd7a6b6a54f4f8e692b119c03ca2dda12ba35c25c2e9106f1417"
  },
  "kernelspec": {
   "display_name": "Python 3.8.5 ('DL')",
   "language": "python",
   "name": "python3"
  },
  "language_info": {
   "codemirror_mode": {
    "name": "ipython",
    "version": 3
   },
   "file_extension": ".py",
   "mimetype": "text/x-python",
   "name": "python",
   "nbconvert_exporter": "python",
   "pygments_lexer": "ipython3",
   "version": "3.8.5"
  },
  "orig_nbformat": 4
 },
 "nbformat": 4,
 "nbformat_minor": 2
}
