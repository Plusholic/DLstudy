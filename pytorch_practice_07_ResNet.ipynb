{
 "cells": [
  {
   "cell_type": "code",
   "execution_count": 1,
   "metadata": {},
   "outputs": [
    {
     "name": "stdout",
     "output_type": "stream",
     "text": [
      "c:\\Users\\bm990\\Desktop\\백업\\Python_Code\\DL\n",
      "Files already downloaded and verified\n",
      "Files already downloaded and verified\n"
     ]
    }
   ],
   "source": [
    "import torch\n",
    "import torchvision\n",
    "import torchvision.transforms as transforms\n",
    "from torch.utils.data import DataLoader\n",
    "import torch.nn as nn\n",
    "import torch.nn.functional as F\n",
    "import torch.optim as optim\n",
    "import matplotlib.pyplot as plt\n",
    "import os\n",
    "path = os.getcwd()\n",
    "print(path)\n",
    "PATH = path + \"/pytorch_sample/data\"\n",
    "\n",
    "# import ssl\n",
    "# ssl._create_default_https_context = ssl._create_unverified_context\n",
    "\n",
    "transform = transforms.Compose([transforms.ToTensor(), transforms.Normalize((0.5, 0.5, 0.5), (0.5, 0.5, 0.5))])\n",
    "trainset = torchvision.datasets.CIFAR10(root=PATH, train=True, download=True, transform=transform)\n",
    "trainloader = DataLoader(trainset, batch_size=32, shuffle=True)\n",
    "\n",
    "testset = torchvision.datasets.CIFAR10(root=PATH, train=False, download=True, transform=transform)\n",
    "testloader = DataLoader(testset, batch_size=32, shuffle=True)"
   ]
  },
  {
   "cell_type": "code",
   "execution_count": 5,
   "metadata": {},
   "outputs": [
    {
     "name": "stdout",
     "output_type": "stream",
     "text": [
      "cuda is available\n"
     ]
    }
   ],
   "source": [
    "device = torch.device(\"cuda\" if torch.cuda.is_available() else 'cpu')\n",
    "print(f'{device} is available')"
   ]
  },
  {
   "cell_type": "code",
   "execution_count": 44,
   "metadata": {},
   "outputs": [],
   "source": [
    "class ResidualBlock(nn.Module):\n",
    "    def __init__(self, in_channels, out_channels, stride=1):\n",
    "        super(ResidualBlock, self).__init__()\n",
    "        self.stride = stride\n",
    "        self.in_channels = in_channels\n",
    "        self.out_channels = out_channels\n",
    "        self.conv_block = nn.Sequential(\n",
    "            nn.Conv2d(self.in_channels, self.out_channels, kernel_size=3, stride=stride,padding=1, bias=False),\n",
    "            nn.BatchNorm2d(self.out_channels),\n",
    "            nn.ReLU(),\n",
    "            \n",
    "            nn.Conv2d(self.out_channels, self.out_channels, kernel_size=3, stride=1,padding=1, bias=False),\n",
    "            nn.BatchNorm2d(self.out_channels))\n",
    "            \n",
    "        if self.stride !=1 or self.in_channels != self.out_channels:\n",
    "            self.downsample = nn.Sequential(\n",
    "                nn.Conv2d(self.in_channels, self.out_channels, kernel_size=1, stride=stride, bias=False),\n",
    "                nn.BatchNorm2d(self.out_channels))\n",
    "    \n",
    "    def forward(self, x):\n",
    "        out = self.conv_block(x)\n",
    "        if self.stride != 1 or self.in_channels != self.out_channels:\n",
    "            x = self.downsample(x)\n",
    "        \n",
    "        # print(out.shape)\n",
    "        # print(x.shape)\n",
    "        out = F.relu(x+out)\n",
    "        return out"
   ]
  },
  {
   "cell_type": "code",
   "execution_count": 47,
   "metadata": {},
   "outputs": [],
   "source": [
    "class ResNet(nn.Module):\n",
    "    def __init__(self, num_blocks, num_class = 10):\n",
    "        super(ResNet, self).__init__()\n",
    "        self.in_channels = 64\n",
    "        self.base = nn.Sequential(\n",
    "            nn.Conv2d(3, 64, kernel_size=3, stride=1, padding=1, bias=False),\n",
    "            nn.BatchNorm2d(64),\n",
    "            nn.ReLU())\n",
    "        self.layer1 = self._make_layer(64, num_blocks[0], stride=1)\n",
    "        self.layer2 = self._make_layer(128, num_blocks[1], stride=2)\n",
    "        self.layer3 = self._make_layer(256, num_blocks[2], stride=2)\n",
    "        self.layer4 = self._make_layer(512, num_blocks[3], stride=2)\n",
    "        self.gap = nn.AvgPool2d(4)\n",
    "        self.fc = nn.Linear(512, num_class)\n",
    "        \n",
    "    def _make_layer(self, out_channels, num_blocks, stride):\n",
    "        strides = [stride] + [1]*(num_blocks-1)\n",
    "        layers = []\n",
    "        for stride in strides:\n",
    "            block = ResidualBlock(self.in_channels, out_channels, stride)\n",
    "            layers.append(block)\n",
    "            self.in_channels = out_channels\n",
    "        return nn.Sequential(*layers)\n",
    "    \n",
    "    def forward(self, x):\n",
    "        out = self.base(x)\n",
    "        out = self.layer1(out)\n",
    "        out = self.layer2(out)\n",
    "        out = self.layer3(out)\n",
    "        out = self.layer4(out)\n",
    "        out = self.gap(out)\n",
    "        out = out.view(out.size(0), -1)\n",
    "        return out\n",
    "    \n",
    "def modeltype(model):\n",
    "    if model == 'resnet18':\n",
    "        return ResNet([2, 2, 2, 2])\n",
    "    elif model == 'resnet34':\n",
    "        return ResNet([3, 4, 6, 3])   "
   ]
  },
  {
   "cell_type": "code",
   "execution_count": 48,
   "metadata": {},
   "outputs": [
    {
     "ename": "ModuleAttributeError",
     "evalue": "'Sequential' object has no attribute 'shape'",
     "output_type": "error",
     "traceback": [
      "\u001b[1;31m---------------------------------------------------------------------------\u001b[0m",
      "\u001b[1;31mModuleAttributeError\u001b[0m                      Traceback (most recent call last)",
      "\u001b[1;32mc:\\Users\\bm990\\Desktop\\백업\\Python_Code\\DL\\pytorch_practice_07_ResNet.ipynb Cell 6'\u001b[0m in \u001b[0;36m<module>\u001b[1;34m\u001b[0m\n\u001b[1;32m----> <a href='vscode-notebook-cell:/c%3A/Users/bm990/Desktop/%EB%B0%B1%EC%97%85/Python_Code/DL/pytorch_practice_07_ResNet.ipynb#ch0000006?line=0'>1</a>\u001b[0m resnet \u001b[39m=\u001b[39m modeltype(\u001b[39m'\u001b[39;49m\u001b[39mresnet18\u001b[39;49m\u001b[39m'\u001b[39;49m)\u001b[39m.\u001b[39mto(device)\n\u001b[0;32m      <a href='vscode-notebook-cell:/c%3A/Users/bm990/Desktop/%EB%B0%B1%EC%97%85/Python_Code/DL/pytorch_practice_07_ResNet.ipynb#ch0000006?line=1'>2</a>\u001b[0m \u001b[39mprint\u001b[39m(resnet)\n\u001b[0;32m      <a href='vscode-notebook-cell:/c%3A/Users/bm990/Desktop/%EB%B0%B1%EC%97%85/Python_Code/DL/pytorch_practice_07_ResNet.ipynb#ch0000006?line=3'>4</a>\u001b[0m criterion \u001b[39m=\u001b[39m nn\u001b[39m.\u001b[39mCrossEntropyLoss()\n",
      "\u001b[1;32mc:\\Users\\bm990\\Desktop\\백업\\Python_Code\\DL\\pytorch_practice_07_ResNet.ipynb Cell 5'\u001b[0m in \u001b[0;36mmodeltype\u001b[1;34m(model)\u001b[0m\n\u001b[0;32m     <a href='vscode-notebook-cell:/c%3A/Users/bm990/Desktop/%EB%B0%B1%EC%97%85/Python_Code/DL/pytorch_practice_07_ResNet.ipynb#ch0000005?line=37'>38</a>\u001b[0m \u001b[39mdef\u001b[39;00m \u001b[39mmodeltype\u001b[39m(model):\n\u001b[0;32m     <a href='vscode-notebook-cell:/c%3A/Users/bm990/Desktop/%EB%B0%B1%EC%97%85/Python_Code/DL/pytorch_practice_07_ResNet.ipynb#ch0000005?line=38'>39</a>\u001b[0m     \u001b[39mif\u001b[39;00m model \u001b[39m==\u001b[39m \u001b[39m'\u001b[39m\u001b[39mresnet18\u001b[39m\u001b[39m'\u001b[39m:\n\u001b[1;32m---> <a href='vscode-notebook-cell:/c%3A/Users/bm990/Desktop/%EB%B0%B1%EC%97%85/Python_Code/DL/pytorch_practice_07_ResNet.ipynb#ch0000005?line=39'>40</a>\u001b[0m         \u001b[39mreturn\u001b[39;00m ResNet([\u001b[39m2\u001b[39;49m, \u001b[39m2\u001b[39;49m, \u001b[39m2\u001b[39;49m, \u001b[39m2\u001b[39;49m])\n\u001b[0;32m     <a href='vscode-notebook-cell:/c%3A/Users/bm990/Desktop/%EB%B0%B1%EC%97%85/Python_Code/DL/pytorch_practice_07_ResNet.ipynb#ch0000005?line=40'>41</a>\u001b[0m     \u001b[39melif\u001b[39;00m model \u001b[39m==\u001b[39m \u001b[39m'\u001b[39m\u001b[39mresnet34\u001b[39m\u001b[39m'\u001b[39m:\n\u001b[0;32m     <a href='vscode-notebook-cell:/c%3A/Users/bm990/Desktop/%EB%B0%B1%EC%97%85/Python_Code/DL/pytorch_practice_07_ResNet.ipynb#ch0000005?line=41'>42</a>\u001b[0m         \u001b[39mreturn\u001b[39;00m ResNet([\u001b[39m3\u001b[39m, \u001b[39m4\u001b[39m, \u001b[39m6\u001b[39m, \u001b[39m3\u001b[39m])\n",
      "\u001b[1;32mc:\\Users\\bm990\\Desktop\\백업\\Python_Code\\DL\\pytorch_practice_07_ResNet.ipynb Cell 5'\u001b[0m in \u001b[0;36mResNet.__init__\u001b[1;34m(self, num_blocks, num_class)\u001b[0m\n\u001b[0;32m     <a href='vscode-notebook-cell:/c%3A/Users/bm990/Desktop/%EB%B0%B1%EC%97%85/Python_Code/DL/pytorch_practice_07_ResNet.ipynb#ch0000005?line=9'>10</a>\u001b[0m \u001b[39mself\u001b[39m\u001b[39m.\u001b[39mlayer2 \u001b[39m=\u001b[39m \u001b[39mself\u001b[39m\u001b[39m.\u001b[39m_make_layer(\u001b[39m128\u001b[39m, num_blocks[\u001b[39m1\u001b[39m], stride\u001b[39m=\u001b[39m\u001b[39m2\u001b[39m)\n\u001b[0;32m     <a href='vscode-notebook-cell:/c%3A/Users/bm990/Desktop/%EB%B0%B1%EC%97%85/Python_Code/DL/pytorch_practice_07_ResNet.ipynb#ch0000005?line=10'>11</a>\u001b[0m \u001b[39mself\u001b[39m\u001b[39m.\u001b[39mlayer3 \u001b[39m=\u001b[39m \u001b[39mself\u001b[39m\u001b[39m.\u001b[39m_make_layer(\u001b[39m256\u001b[39m, num_blocks[\u001b[39m2\u001b[39m], stride\u001b[39m=\u001b[39m\u001b[39m2\u001b[39m)\n\u001b[1;32m---> <a href='vscode-notebook-cell:/c%3A/Users/bm990/Desktop/%EB%B0%B1%EC%97%85/Python_Code/DL/pytorch_practice_07_ResNet.ipynb#ch0000005?line=11'>12</a>\u001b[0m \u001b[39mprint\u001b[39m(\u001b[39mself\u001b[39;49m\u001b[39m.\u001b[39;49mlayer3\u001b[39m.\u001b[39;49mshape)\n\u001b[0;32m     <a href='vscode-notebook-cell:/c%3A/Users/bm990/Desktop/%EB%B0%B1%EC%97%85/Python_Code/DL/pytorch_practice_07_ResNet.ipynb#ch0000005?line=12'>13</a>\u001b[0m \u001b[39mself\u001b[39m\u001b[39m.\u001b[39mlayer4 \u001b[39m=\u001b[39m \u001b[39mself\u001b[39m\u001b[39m.\u001b[39m_make_layer(\u001b[39m512\u001b[39m, num_blocks[\u001b[39m3\u001b[39m], stride\u001b[39m=\u001b[39m\u001b[39m2\u001b[39m)\n\u001b[0;32m     <a href='vscode-notebook-cell:/c%3A/Users/bm990/Desktop/%EB%B0%B1%EC%97%85/Python_Code/DL/pytorch_practice_07_ResNet.ipynb#ch0000005?line=13'>14</a>\u001b[0m \u001b[39mprint\u001b[39m(\u001b[39mself\u001b[39m\u001b[39m.\u001b[39mlayer4\u001b[39m.\u001b[39mshape)\n",
      "File \u001b[1;32m~\\.julia\\conda\\3\\envs\\DL\\lib\\site-packages\\torch\\nn\\modules\\module.py:778\u001b[0m, in \u001b[0;36mModule.__getattr__\u001b[1;34m(self, name)\u001b[0m\n\u001b[0;32m    <a href='file:///~/.julia/conda/3/envs/DL/lib/site-packages/torch/nn/modules/module.py?line=775'>776</a>\u001b[0m     \u001b[39mif\u001b[39;00m name \u001b[39min\u001b[39;00m modules:\n\u001b[0;32m    <a href='file:///~/.julia/conda/3/envs/DL/lib/site-packages/torch/nn/modules/module.py?line=776'>777</a>\u001b[0m         \u001b[39mreturn\u001b[39;00m modules[name]\n\u001b[1;32m--> <a href='file:///~/.julia/conda/3/envs/DL/lib/site-packages/torch/nn/modules/module.py?line=777'>778</a>\u001b[0m \u001b[39mraise\u001b[39;00m ModuleAttributeError(\u001b[39m\"\u001b[39m\u001b[39m'\u001b[39m\u001b[39m{}\u001b[39;00m\u001b[39m'\u001b[39m\u001b[39m object has no attribute \u001b[39m\u001b[39m'\u001b[39m\u001b[39m{}\u001b[39;00m\u001b[39m'\u001b[39m\u001b[39m\"\u001b[39m\u001b[39m.\u001b[39mformat(\n\u001b[0;32m    <a href='file:///~/.julia/conda/3/envs/DL/lib/site-packages/torch/nn/modules/module.py?line=778'>779</a>\u001b[0m     \u001b[39mtype\u001b[39m(\u001b[39mself\u001b[39m)\u001b[39m.\u001b[39m\u001b[39m__name__\u001b[39m, name))\n",
      "\u001b[1;31mModuleAttributeError\u001b[0m: 'Sequential' object has no attribute 'shape'"
     ]
    }
   ],
   "source": [
    "resnet = modeltype('resnet18').to(device)\n",
    "print(resnet)\n",
    "\n",
    "criterion = nn.CrossEntropyLoss()\n",
    "optimizer = optim.Adam(resnet.parameters(), lr=1e-3)\n",
    "\n",
    "loss_ = []\n",
    "n = len(trainloader)\n",
    "for epoch in range(1):\n",
    "    running_loss = 0.0\n",
    "    for data in trainloader:\n",
    "        inputs, labels = data[0].to(device), data[1].to(device)\n",
    "        optimizer.zero_grad()\n",
    "        outputs = resnet(inputs)\n",
    "        loss = criterion(outputs, labels)\n",
    "        loss.backward()\n",
    "        optimizer.step()\n",
    "        running_loss += loss.item()\n",
    "        \n",
    "    loss_.append(running_loss / n)\n",
    "    print('[%d] loss : %.3f'%(epoch + 1, running_loss / len(trainloader)))\n",
    "    \n",
    "PATH2 = path + './models/cifar_resnet.pth'\n"
   ]
  }
 ],
 "metadata": {
  "interpreter": {
   "hash": "5fcc2d6f25dee36617bfc4ccd7dabf4f7d80fca5d05ebd2a6c4213843696c2cc"
  },
  "kernelspec": {
   "display_name": "Python 3.8.5 ('base')",
   "language": "python",
   "name": "python3"
  },
  "language_info": {
   "codemirror_mode": {
    "name": "ipython",
    "version": 3
   },
   "file_extension": ".py",
   "mimetype": "text/x-python",
   "name": "python",
   "nbconvert_exporter": "python",
   "pygments_lexer": "ipython3",
   "version": "3.8.5"
  },
  "orig_nbformat": 4
 },
 "nbformat": 4,
 "nbformat_minor": 2
}
